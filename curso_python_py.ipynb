{
  "nbformat": 4,
  "nbformat_minor": 0,
  "metadata": {
    "colab": {
      "provenance": [],
      "authorship_tag": "ABX9TyP1QF341gGHmFYtiKUI7GRf",
      "include_colab_link": true
    },
    "kernelspec": {
      "name": "python3",
      "display_name": "Python 3"
    },
    "language_info": {
      "name": "python"
    }
  },
  "cells": [
    {
      "cell_type": "markdown",
      "metadata": {
        "id": "view-in-github",
        "colab_type": "text"
      },
      "source": [
        "<a href=\"https://colab.research.google.com/github/Marco-Merini/curso_python/blob/main/curso_python_py.ipynb\" target=\"_parent\"><img src=\"https://colab.research.google.com/assets/colab-badge.svg\" alt=\"Open In Colab\"/></a>"
      ]
    },
    {
      "cell_type": "code",
      "execution_count": 1,
      "metadata": {
        "id": "T4xyszbLBWl1",
        "outputId": "96f98b38-6fff-4b2c-90cf-dbcbc4b15bc3",
        "colab": {
          "base_uri": "https://localhost:8080/"
        }
      },
      "outputs": [
        {
          "output_type": "stream",
          "name": "stdout",
          "text": [
            "hello world\n"
          ]
        }
      ],
      "source": [
        "print(\"hello world\")"
      ]
    },
    {
      "cell_type": "code",
      "source": [
        "import matplotlib.pyplot as plt"
      ],
      "metadata": {
        "id": "5UldnbNnBMMs"
      },
      "execution_count": 2,
      "outputs": []
    },
    {
      "cell_type": "code",
      "source": [
        "# -*- coding: utf-8 -*-\n",
        "print(\"Vasco é o melhor\")"
      ],
      "metadata": {
        "colab": {
          "base_uri": "https://localhost:8080/"
        },
        "id": "6-Mrpwm8DiCH",
        "outputId": "23461f86-6f6b-4afd-be63-3104cd1c8816"
      },
      "execution_count": 3,
      "outputs": [
        {
          "output_type": "stream",
          "name": "stdout",
          "text": [
            "Vasco é o melhor\n"
          ]
        }
      ]
    },
    {
      "cell_type": "code",
      "source": [
        "#comentarios\n",
        "\"\"\"comentarios de muitas linhas\"\"\""
      ],
      "metadata": {
        "colab": {
          "base_uri": "https://localhost:8080/",
          "height": 35
        },
        "id": "e_i97tryeMid",
        "outputId": "ed28b313-624f-4a78-9c68-4c5e03519ac6"
      },
      "execution_count": 4,
      "outputs": [
        {
          "output_type": "execute_result",
          "data": {
            "text/plain": [
              "'comentarios de muitas linhas'"
            ],
            "application/vnd.google.colaboratory.intrinsic+json": {
              "type": "string"
            }
          },
          "metadata": {},
          "execution_count": 4
        }
      ]
    },
    {
      "cell_type": "code",
      "source": [
        "variavel=\"hello world\"\n",
        "print(variavel)"
      ],
      "metadata": {
        "colab": {
          "base_uri": "https://localhost:8080/"
        },
        "id": "-Ju92hvRMBfd",
        "outputId": "f98ad6d2-a9fc-440b-a07b-ef62713379ab"
      },
      "execution_count": 5,
      "outputs": [
        {
          "output_type": "stream",
          "name": "stdout",
          "text": [
            "hello world\n"
          ]
        }
      ]
    },
    {
      "cell_type": "code",
      "source": [
        "numerico_int=\"47\"\n",
        "numerico_float=\"47.53\"\n",
        "textual_string=\"Hello world\"\n",
        "booleano=\"true or false\"\n",
        "print(numerico_int, numerico_float, textual_string, booleano) "
      ],
      "metadata": {
        "colab": {
          "base_uri": "https://localhost:8080/"
        },
        "id": "J6BH20EeMvy5",
        "outputId": "0332116d-4338-4fe9-e30a-b24929ffca6b"
      },
      "execution_count": 6,
      "outputs": [
        {
          "output_type": "stream",
          "name": "stdout",
          "text": [
            "47 47.53 Hello world true or false\n"
          ]
        }
      ]
    },
    {
      "cell_type": "code",
      "source": [
        "var1 = 1 #variavel inteira\n",
        "var2 = 1.1 #variavel flutuante\n",
        "var3 = \"eu sou uma string\" #variavel string\n",
        "var4 = \"True and False\" #verdadeiro e falso\n",
        "\n",
        "print(var1)\n",
        "print(var2)\n",
        "print(var3)\n",
        "print(var4)"
      ],
      "metadata": {
        "colab": {
          "base_uri": "https://localhost:8080/"
        },
        "id": "1eSX9DDBNg0i",
        "outputId": "8ae85aae-f38b-4353-ca57-4c741ed9ec92"
      },
      "execution_count": 7,
      "outputs": [
        {
          "output_type": "stream",
          "name": "stdout",
          "text": [
            "1\n",
            "1.1\n",
            "eu sou uma string\n",
            "True and False\n"
          ]
        }
      ]
    },
    {
      "cell_type": "code",
      "source": [
        "x = 3\n",
        "y = 3\n",
        "z = 4\n",
        "\n",
        "soma = x + y\n",
        "\n",
        "print(x == y and x == z)\n",
        "print(x == y or x == z)"
      ],
      "metadata": {
        "colab": {
          "base_uri": "https://localhost:8080/"
        },
        "id": "3bQ6qdngPe_Y",
        "outputId": "e72f4a07-06a6-4877-87d8-b5baea6d0a9e"
      },
      "execution_count": 8,
      "outputs": [
        {
          "output_type": "stream",
          "name": "stdout",
          "text": [
            "False\n",
            "True\n"
          ]
        }
      ]
    },
    {
      "cell_type": "code",
      "source": [
        "x = 1\n",
        "y = 1000\n",
        "\n",
        "if x > y:\n",
        "  print(\"x é maior que y\")\n",
        "if y > x:\n",
        "  print(\"y é maior que x\")"
      ],
      "metadata": {
        "colab": {
          "base_uri": "https://localhost:8080/"
        },
        "id": "p-ytW6edcs3y",
        "outputId": "41190efa-e6fb-407f-f165-d515a2245e9c"
      },
      "execution_count": 9,
      "outputs": [
        {
          "output_type": "stream",
          "name": "stdout",
          "text": [
            "y é maior que x\n"
          ]
        }
      ]
    },
    {
      "cell_type": "code",
      "source": [
        "x = 1\n",
        "y = 1000\n",
        "\n",
        "if x > y:\n",
        "  print(\"x é maior que y\")\n",
        "else:\n",
        "  print(\"x não é maior que y\")"
      ],
      "metadata": {
        "colab": {
          "base_uri": "https://localhost:8080/"
        },
        "id": "vMYOuTAUd28g",
        "outputId": "684ad47c-a771-4274-b5f3-4fb0a82404c1"
      },
      "execution_count": 10,
      "outputs": [
        {
          "output_type": "stream",
          "name": "stdout",
          "text": [
            "x não é maior que y\n"
          ]
        }
      ]
    },
    {
      "cell_type": "code",
      "source": [
        "x = 1\n",
        "y = 2\n",
        "\n",
        "if x== y:\n",
        "  print(\"numeros iguais\")\n",
        "#Caso haja necessidade de mais condições entre o if e o else usar o elif\n",
        "elif x < y:\n",
        "  print(\"x menor que y\")\n",
        "elif y > x:\n",
        "  print(\"y maior que x\")\n",
        "else:\n",
        "  print(\"numeros diferentes\")"
      ],
      "metadata": {
        "colab": {
          "base_uri": "https://localhost:8080/"
        },
        "id": "iRHFMFnBfxZE",
        "outputId": "822d3403-9d9b-4166-8855-dc43018791a0"
      },
      "execution_count": 11,
      "outputs": [
        {
          "output_type": "stream",
          "name": "stdout",
          "text": [
            "x menor que y\n"
          ]
        }
      ]
    },
    {
      "cell_type": "code",
      "source": [
        "x = 1\n",
        "\n",
        "while x < 10:\n",
        "  print(\"x\")\n",
        "# x = x + 1\n",
        "  x += 1 # x = x + 1"
      ],
      "metadata": {
        "colab": {
          "base_uri": "https://localhost:8080/"
        },
        "id": "zuei6L8xhM9K",
        "outputId": "68d2338e-9953-4ba2-8c90-763519943f06"
      },
      "execution_count": 12,
      "outputs": [
        {
          "output_type": "stream",
          "name": "stdout",
          "text": [
            "x\n",
            "x\n",
            "x\n",
            "x\n",
            "x\n",
            "x\n",
            "x\n",
            "x\n",
            "x\n"
          ]
        }
      ]
    },
    {
      "cell_type": "code",
      "source": [
        "lista = [1,2,3,4,5]\n",
        "lista2 = [\"ola\",\"mundo\",\"!\"]\n",
        "lista3 = [0,\"ola\",\"biscoito\",\"bolacha\",9.99,True]\n",
        "\n",
        "for i in lista:\n",
        "  print(i)"
      ],
      "metadata": {
        "colab": {
          "base_uri": "https://localhost:8080/"
        },
        "id": "kZYrmt2p8vgw",
        "outputId": "3f1b5426-18c4-460e-e932-ee101a14aa46"
      },
      "execution_count": 15,
      "outputs": [
        {
          "output_type": "stream",
          "name": "stdout",
          "text": [
            "1\n",
            "2\n",
            "3\n",
            "4\n",
            "5\n"
          ]
        }
      ]
    },
    {
      "cell_type": "code",
      "source": [
        "lista = [1,2,3,4,5]\n",
        "lista2 = [\"ola\",\"mundo\",\"!\"]\n",
        "lista3 = [0,\"ola\",\"biscoito\",\"bolacha\",9.99,True]\n",
        "\n",
        "for i in lista2:\n",
        "  print(i)"
      ],
      "metadata": {
        "colab": {
          "base_uri": "https://localhost:8080/"
        },
        "id": "Hj6QeBU99db0",
        "outputId": "f03a8d62-3033-41e5-ad90-c44e46135444"
      },
      "execution_count": 16,
      "outputs": [
        {
          "output_type": "stream",
          "name": "stdout",
          "text": [
            "ola\n",
            "mundo\n",
            "!\n"
          ]
        }
      ]
    },
    {
      "cell_type": "code",
      "source": [
        "lista = [1,2,3,4,5]\n",
        "lista2 = [\"ola\",\"mundo\",\"!\"]\n",
        "lista3 = [0,\"ola\",\"biscoito\",\"bolacha\",9.99,True]\n",
        "\n",
        "for i in lista3:\n",
        "  print(i)"
      ],
      "metadata": {
        "colab": {
          "base_uri": "https://localhost:8080/"
        },
        "id": "Fv6-CRTr9kmj",
        "outputId": "416d95ef-bd8d-434f-e56a-73a33ae6ffd2"
      },
      "execution_count": 17,
      "outputs": [
        {
          "output_type": "stream",
          "name": "stdout",
          "text": [
            "0\n",
            "ola\n",
            "biscoito\n",
            "bolacha\n",
            "9.99\n",
            "True\n"
          ]
        }
      ]
    },
    {
      "cell_type": "code",
      "source": [
        "for i in range(10,20,2):\n",
        "  print(i)"
      ],
      "metadata": {
        "colab": {
          "base_uri": "https://localhost:8080/"
        },
        "id": "CiZJ6tav9unH",
        "outputId": "20c54d6c-cc93-46db-99d8-7725587578ba"
      },
      "execution_count": 20,
      "outputs": [
        {
          "output_type": "stream",
          "name": "stdout",
          "text": [
            "10\n",
            "12\n",
            "14\n",
            "16\n",
            "18\n"
          ]
        }
      ]
    },
    {
      "cell_type": "code",
      "source": [
        "a = \"Marco\""
      ],
      "metadata": {
        "id": "4wVVOiKL-mMB"
      },
      "execution_count": null,
      "outputs": []
    }
  ]
}