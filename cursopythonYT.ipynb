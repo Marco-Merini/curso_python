{
  "nbformat": 4,
  "nbformat_minor": 0,
  "metadata": {
    "colab": {
      "provenance": [],
      "authorship_tag": "ABX9TyPlGDWwcQu2McevfYk3/pNC",
      "include_colab_link": true
    },
    "kernelspec": {
      "name": "python3",
      "display_name": "Python 3"
    },
    "language_info": {
      "name": "python"
    }
  },
  "cells": [
    {
      "cell_type": "markdown",
      "metadata": {
        "id": "view-in-github",
        "colab_type": "text"
      },
      "source": [
        "<a href=\"https://colab.research.google.com/github/Marco-Merini/curso_python/blob/main/cursopythonYT.ipynb\" target=\"_parent\"><img src=\"https://colab.research.google.com/assets/colab-badge.svg\" alt=\"Open In Colab\"/></a>"
      ]
    },
    {
      "cell_type": "code",
      "execution_count": 16,
      "metadata": {
        "id": "hLac7aSn7t4k",
        "colab": {
          "base_uri": "https://localhost:8080/"
        },
        "outputId": "db2f2b97-cc91-420b-c94f-d1c84abf2257"
      },
      "outputs": [
        {
          "output_type": "stream",
          "name": "stdout",
          "text": [
            "Digite um número: 5\n",
            "Digite outro valor: 6\n",
            "A soma vale:  11\n"
          ]
        }
      ],
      "source": [
        "#COM O INT FEZ A SOMA DOS VALORES\n",
        "n1 = int(input ('Digite um número: '))\n",
        "n2 = int(input ('Digite outro valor: '))\n",
        "s = n1 + n2\n",
        "print('A soma vale: ', s)"
      ]
    },
    {
      "cell_type": "code",
      "source": [
        "#SEM O INT ELE APENAS JUNTA OS NUMEROS DIGITADOS\n",
        "n1 = (input ('Digite um número: '))\n",
        "n2 = (input ('Digite outro valor: '))\n",
        "s = n1 + n2\n",
        "print('A soma vale: ', s)"
      ],
      "metadata": {
        "colab": {
          "base_uri": "https://localhost:8080/"
        },
        "id": "cDyDvPOzAWiv",
        "outputId": "2eb75c77-e95a-4488-d66a-fd428d131454"
      },
      "execution_count": 17,
      "outputs": [
        {
          "output_type": "stream",
          "name": "stdout",
          "text": [
            "Digite um número: 5\n",
            "Digite outro valor: 6\n",
            "A soma vale:  56\n"
          ]
        }
      ]
    },
    {
      "cell_type": "code",
      "source": [
        "n1 = int(input ('Digite um número: '))\n",
        "n2 = int(input ('Digite outro valor: '))\n",
        "s = n1 + n2\n",
        "print('A soma entre',n1,'e',n2, 'vale', s)"
      ],
      "metadata": {
        "colab": {
          "base_uri": "https://localhost:8080/"
        },
        "id": "cMFx4rTMA1kf",
        "outputId": "7a27a935-f368-47fd-cbb4-ebca171bbc07"
      },
      "execution_count": 18,
      "outputs": [
        {
          "output_type": "stream",
          "name": "stdout",
          "text": [
            "Digite um número: 5\n",
            "Digite outro valor: 6\n",
            "A soma entre 5 e 6 vale 11\n"
          ]
        }
      ]
    },
    {
      "cell_type": "code",
      "source": [
        "print('A soma entre {} e {} vale {}'.format(n1, n2, s))"
      ],
      "metadata": {
        "colab": {
          "base_uri": "https://localhost:8080/"
        },
        "id": "6XOuCd3cB1zP",
        "outputId": "5a1f33d7-7467-4370-bd2a-05a2c8541ee8"
      },
      "execution_count": 19,
      "outputs": [
        {
          "output_type": "stream",
          "name": "stdout",
          "text": [
            "A soma entre 5 e 6 vale 11\n"
          ]
        }
      ]
    },
    {
      "cell_type": "code",
      "source": [
        "n = float(input('Digite um número: '))\n",
        "print(n)"
      ],
      "metadata": {
        "colab": {
          "base_uri": "https://localhost:8080/"
        },
        "id": "zNGpnvRpCmVG",
        "outputId": "c6b32643-4243-4559-8aae-59565d9b5c24"
      },
      "execution_count": 20,
      "outputs": [
        {
          "output_type": "stream",
          "name": "stdout",
          "text": [
            "Digite um número: 5\n",
            "5.0\n"
          ]
        }
      ]
    },
    {
      "cell_type": "code",
      "source": [
        "n = int(input('Digite um número: '))\n",
        "print(n)"
      ],
      "metadata": {
        "colab": {
          "base_uri": "https://localhost:8080/"
        },
        "id": "-Ms26Hz_D5hm",
        "outputId": "1f46b545-4345-4156-e1ec-2628814c50a8"
      },
      "execution_count": 21,
      "outputs": [
        {
          "output_type": "stream",
          "name": "stdout",
          "text": [
            "Digite um número: 6\n",
            "6\n"
          ]
        }
      ]
    },
    {
      "cell_type": "code",
      "source": [
        "#SE DIGITAR ALGO É TRUE SE DER ENTER SEM NADA É FALSE\n",
        "n = bool(input('Digite um número: '))\n",
        "print(n)"
      ],
      "metadata": {
        "colab": {
          "base_uri": "https://localhost:8080/"
        },
        "id": "nGi6AbOhD9rv",
        "outputId": "4279b102-faf0-4143-8355-d9b6f36065d7"
      },
      "execution_count": 22,
      "outputs": [
        {
          "output_type": "stream",
          "name": "stdout",
          "text": [
            "Digite um número: 5\n",
            "True\n"
          ]
        }
      ]
    },
    {
      "cell_type": "code",
      "source": [
        "a = input('Digite algo: ')\n",
        "print('O tipo primitivo desse valor é: ', type(a))\n",
        "print('Só tem espaço?', a.isspace())\n",
        "print('É um número?', a.isnumeric())\n",
        "print('É alfabético?', a.isalpha())\n",
        "print('É alfanumérico?', a.isalnum())\n",
        "print('Está em maiúsculas?', a.isupper())\n",
        "print('Está em minúsculas?', a.islower())\n",
        "print('Está capitalizada?', a.istitle()) "
      ],
      "metadata": {
        "colab": {
          "base_uri": "https://localhost:8080/"
        },
        "id": "G6o6fufkSLQq",
        "outputId": "749165c7-0afa-4d4a-9eca-10c2c2066622"
      },
      "execution_count": 23,
      "outputs": [
        {
          "output_type": "stream",
          "name": "stdout",
          "text": [
            "Digite algo: 5\n",
            "O tipo primitivo desse valor é:  <class 'str'>\n",
            "Só tem espaço? False\n",
            "É um número? True\n",
            "É alfabético? False\n",
            "É alfanumérico? True\n",
            "Está em maiúsculas? False\n",
            "Está em minúsculas? False\n",
            "Está capitalizada? False\n"
          ]
        }
      ]
    }
  ]
}